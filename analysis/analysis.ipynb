{
 "cells": [
  {
   "cell_type": "code",
   "execution_count": 2,
   "metadata": {},
   "outputs": [],
   "source": [
    "import pandas as pd\n",
    "import glob\n",
    "from pathlib import Path"
   ]
  },
  {
   "cell_type": "code",
   "execution_count": 3,
   "metadata": {},
   "outputs": [
    {
     "name": "stdout",
     "output_type": "stream",
     "text": [
      "['1500_bst', '1100_bst', '2000_bst', '1900_bst', '1700_bst', '900_bst', '700_bst', '500_bst']\n"
     ]
    }
   ],
   "source": [
    "paths = glob.glob('*_bst')\n",
    "print(paths)"
   ]
  },
  {
   "cell_type": "code",
   "execution_count": 4,
   "metadata": {},
   "outputs": [
    {
     "name": "stdout",
     "output_type": "stream",
     "text": [
      "1500_bst\n",
      "  Unnamed: 0  precision     recall         f1\n",
      "0      count  23.000000  23.000000  23.000000\n",
      "1       mean   0.767546   0.486450   0.549469\n",
      "2        std   0.271862   0.236944   0.214249\n",
      "3        min   0.000000   0.000000   0.000000\n",
      "4        25%   0.663576   0.345653   0.458791\n",
      "5        50%   0.801626   0.404762   0.518098\n",
      "6        75%   0.969499   0.641203   0.688461\n",
      "7        max   1.000000   0.951906   0.935093\n",
      "1100_bst\n",
      "  Unnamed: 0  precision     recall         f1\n",
      "0      count  23.000000  23.000000  23.000000\n",
      "1       mean   0.767546   0.486450   0.549469\n",
      "2        std   0.271862   0.236944   0.214249\n",
      "3        min   0.000000   0.000000   0.000000\n",
      "4        25%   0.663576   0.345653   0.458791\n",
      "5        50%   0.801626   0.404762   0.518098\n",
      "6        75%   0.969499   0.641203   0.688461\n",
      "7        max   1.000000   0.951906   0.935093\n",
      "2000_bst\n",
      "  Unnamed: 0  precision     recall         f1\n",
      "0      count  23.000000  23.000000  23.000000\n",
      "1       mean   0.826368   0.240144   0.324986\n",
      "2        std   0.278482   0.204174   0.225551\n",
      "3        min   0.000000   0.000000   0.000000\n",
      "4        25%   0.749251   0.115565   0.192129\n",
      "5        50%   0.975610   0.193585   0.313533\n",
      "6        75%   0.998705   0.355503   0.408727\n",
      "7        max   1.000000   0.866118   0.905960\n",
      "1900_bst\n",
      "  Unnamed: 0  precision     recall         f1\n",
      "0      count  23.000000  23.000000  23.000000\n",
      "1       mean   0.822862   0.264870   0.347154\n",
      "2        std   0.279137   0.218910   0.233498\n",
      "3        min   0.000000   0.000000   0.000000\n",
      "4        25%   0.732163   0.135968   0.201942\n",
      "5        50%   0.976744   0.205040   0.338710\n",
      "6        75%   0.996590   0.388539   0.424081\n",
      "7        max   1.000000   0.885182   0.907597\n",
      "1700_bst\n",
      "  Unnamed: 0  precision     recall         f1\n",
      "0      count  23.000000  23.000000  23.000000\n",
      "1       mean   0.813856   0.312422   0.390289\n",
      "2        std   0.278478   0.239697   0.237129\n",
      "3        min   0.000000   0.000000   0.000000\n",
      "4        25%   0.737927   0.170223   0.247497\n",
      "5        50%   0.958333   0.264368   0.375232\n",
      "6        75%   0.991519   0.404067   0.465874\n",
      "7        max   1.000000   0.907712   0.911662\n",
      "900_bst\n",
      "  Unnamed: 0  precision     recall         f1\n",
      "0      count  23.000000  23.000000  23.000000\n",
      "1       mean   0.750363   0.572418   0.611911\n",
      "2        std   0.281032   0.218417   0.210789\n",
      "3        min   0.000000   0.000000   0.000000\n",
      "4        25%   0.681156   0.454840   0.555575\n",
      "5        50%   0.796340   0.558475   0.645132\n",
      "6        75%   0.949162   0.685460   0.745869\n",
      "7        max   1.000000   0.967071   0.942966\n",
      "700_bst\n",
      "  Unnamed: 0  precision     recall         f1\n",
      "0      count  23.000000  23.000000  23.000000\n",
      "1       mean   0.751866   0.663958   0.673216\n",
      "2        std   0.278578   0.206700   0.214727\n",
      "3        min   0.000000   0.000000   0.000000\n",
      "4        25%   0.685821   0.568736   0.636504\n",
      "5        50%   0.807426   0.672671   0.716273\n",
      "6        75%   0.948672   0.788022   0.803385\n",
      "7        max   1.000000   0.976603   0.947855\n",
      "500_bst\n",
      "  Unnamed: 0  precision     recall         f1\n",
      "0      count  23.000000  23.000000  23.000000\n",
      "1       mean   0.757147   0.749450   0.725440\n",
      "2        std   0.274188   0.202981   0.221293\n",
      "3        min   0.000000   0.000000   0.000000\n",
      "4        25%   0.693368   0.660130   0.732450\n",
      "5        50%   0.820866   0.766102   0.773686\n",
      "6        75%   0.943745   0.868389   0.843622\n",
      "7        max   1.000000   0.985702   0.952481\n",
      "f1: 500_bst, 0.7254404187506204\n",
      "recall: 500_bst, 0.7494496954654533\n",
      "precision: 2000_bst, 0.8263681555246158\n"
     ]
    }
   ],
   "source": [
    "max_recall = 0\n",
    "recall_name = ''\n",
    "max_precision = 0\n",
    "prec_name = ''\n",
    "max_f1 = 0\n",
    "f1_name = ''\n",
    "for p in paths:\n",
    "    print(p)\n",
    "    df = pd.read_csv(Path(p) / \"mean_metrics.csv\")\n",
    "    if max_recall < df['recall'][1]:\n",
    "        recall_name = p\n",
    "        max_recall = df['recall'][1]\n",
    "    if max_precision < df['precision'][1]:\n",
    "        prec_name = p\n",
    "        max_precision = df['precision'][1]\n",
    "    if max_f1 < df['f1'][1]:\n",
    "        f1_name = p\n",
    "        max_f1 = df['f1'][1]\n",
    "    \n",
    "\n",
    "    print(df)\n",
    "\n",
    "print(f\"f1: {f1_name}, {max_f1}\")\n",
    "print(f\"recall: {recall_name}, {max_recall}\")\n",
    "print(f\"precision: {prec_name}, {max_precision}\")"
   ]
  },
  {
   "cell_type": "code",
   "execution_count": 20,
   "metadata": {},
   "outputs": [
    {
     "name": "stdout",
     "output_type": "stream",
     "text": [
      "1500_bst\n",
      "Robbery098_x264.mp4_86.9\n",
      "1100_bst\n",
      "Robbery098_x264.mp4_86.9\n",
      "2000_bst\n",
      "Robbery098_x264.mp4_86.9\n",
      "1900_bst\n",
      "Robbery098_x264.mp4_86.9\n",
      "1700_bst\n",
      "Robbery098_x264.mp4_86.9\n",
      "900_bst\n",
      "Robbery098_x264.mp4_86.9\n",
      "700_bst\n",
      "Robbery098_x264.mp4_86.9\n",
      "500_bst\n",
      "Robbery098_x264.mp4_86.9\n"
     ]
    }
   ],
   "source": [
    "paths = glob.glob(\"*bst\")\n",
    "\n",
    "def refact(df: pd.DataFrame):\n",
    "    for i in range(len(df)):\n",
    "        if df.loc[i, \"precision\"] < 0.005 and df.loc[i, \"recall\"] < 0.005 and df.loc[i, \"f1\"] < 0.005:\n",
    "            print(df.loc[i, 'video'])\n",
    "            df = df.drop([i])\n",
    "    \n",
    "    return df\n",
    "    \n",
    "\n",
    "for p in paths:\n",
    "    p = Path(p)\n",
    "    print(p)\n",
    "    df_path = p / \"metrics.csv\"\n",
    "    df = pd.read_csv(df_path)\n",
    "    new_df = refact(df)\n",
    "    # print(new_df['video'])\n",
    "    new_df.to_csv(p / \"metrics_new.csv\", index=False)\n",
    "    new_df.describe().to_csv(p / \"metrics_new_mean.csv\")"
   ]
  },
  {
   "cell_type": "code",
   "execution_count": null,
   "metadata": {},
   "outputs": [],
   "source": []
  },
  {
   "cell_type": "code",
   "execution_count": null,
   "metadata": {},
   "outputs": [],
   "source": []
  }
 ],
 "metadata": {
  "kernelspec": {
   "display_name": "Python 3",
   "language": "python",
   "name": "python3"
  },
  "language_info": {
   "codemirror_mode": {
    "name": "ipython",
    "version": 3
   },
   "file_extension": ".py",
   "mimetype": "text/x-python",
   "name": "python",
   "nbconvert_exporter": "python",
   "pygments_lexer": "ipython3",
   "version": "3.8.10"
  },
  "orig_nbformat": 4
 },
 "nbformat": 4,
 "nbformat_minor": 2
}
